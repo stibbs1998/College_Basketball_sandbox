{
 "cells": [
  {
   "cell_type": "code",
   "execution_count": null,
   "metadata": {},
   "outputs": [],
   "source": [
    "from bs4 import BeautifulSoup\n",
    "import requests\n",
    "import numpy as np\n",
    "import pandas as pd"
   ]
  },
  {
   "cell_type": "code",
   "execution_count": null,
   "metadata": {},
   "outputs": [],
   "source": [
    "charts = [41,81,121,161,201,241,281,321] # ESPN displays 40 teams per page\n",
    "url = 'http://www.espn.com/mens-college-basketball/statistics/team/_/stat/scoring-per-game/sort/avgPoints'\n",
    "r = requests.get(url)\n",
    "dataa = r.text\n",
    "soup = BeautifulSoup(dataa,'html.parser')\n",
    "table = []\n",
    "for row in soup('tr'):\n",
    "    cols = row.find_all('td')\n",
    "    cols = [ele.text.strip() for ele in cols]\n",
    "    table.append(cols)\n",
    "\n",
    "PPG = pd.DataFrame(table[1:],columns=table[0])\n",
    "\n",
    "for n in charts:   \n",
    "    \n",
    "    url = 'http://www.espn.com/mens-college-basketball/statistics/team/_/stat/scoring-per-game/sort/avgPoints/count/%d' %n\n",
    "    r = requests.get(url)\n",
    "    dataa = r.text\n",
    "    soup = BeautifulSoup(dataa,'html.parser')\n",
    "    table = []\n",
    "    for row in soup('tr'):\n",
    "\n",
    "        cols = row.find_all('td')\n",
    "        cols = [ele.text.strip() for ele in cols]\n",
    "        table.append(cols)\n",
    "\n",
    "    PPG2 = pd.DataFrame(table[1:],columns=table[0])\n",
    "    PPG = pd.concat([PPG,PPG2])\n",
    "    \n",
    "PPG = PPG[PPG[\"RK\"]!='RK']\n",
    "PPG = PPG.reset_index()\n",
    "PPG = PPG.drop(columns=['index'])"
   ]
  },
  {
   "cell_type": "code",
   "execution_count": null,
   "metadata": {},
   "outputs": [],
   "source": [
    "charts = [41,81,121,161,201,241,281,321] # ESPN displays 40 teams per page\n",
    "url = 'http://www.espn.com/mens-college-basketball/statistics/team/_/stat/rebounds/sort/avgRebounds'\n",
    "r = requests.get(url)\n",
    "dataa = r.text\n",
    "soup = BeautifulSoup(dataa,'html.parser')\n",
    "table = []\n",
    "for row in soup('tr'):\n",
    "    cols = row.find_all('td')\n",
    "    cols = [ele.text.strip() for ele in cols]\n",
    "    table.append(cols)\n",
    "\n",
    "RPG = pd.DataFrame(table[1:],columns=table[0])\n",
    "\n",
    "for n in charts:   \n",
    "    \n",
    "    url = 'http://www.espn.com/mens-college-basketball/statistics/team/_/stat/rebounds/sort/avgRebounds/count/%d' %n\n",
    "    r = requests.get(url)\n",
    "    dataa = r.text\n",
    "    soup = BeautifulSoup(dataa,'html.parser')\n",
    "    table = []\n",
    "    for row in soup('tr'):\n",
    "\n",
    "        cols = row.find_all('td')\n",
    "        cols = [ele.text.strip() for ele in cols]\n",
    "        table.append(cols)\n",
    "\n",
    "    RPG2 = pd.DataFrame(table[1:],columns=table[0])\n",
    "    RPG = pd.concat([RPG,RPG2])\n",
    "    \n",
    "RPG = RPG[RPG[\"RK\"]!='RK']\n",
    "RPG = RPG.reset_index()\n",
    "RPG = RPG.drop(columns=['index'])"
   ]
  },
  {
   "cell_type": "code",
   "execution_count": null,
   "metadata": {},
   "outputs": [],
   "source": [
    "RPG"
   ]
  }
 ],
 "metadata": {
  "kernelspec": {
   "display_name": "Python 3",
   "language": "python",
   "name": "python3"
  },
  "language_info": {
   "codemirror_mode": {
    "name": "ipython",
    "version": 3
   },
   "file_extension": ".py",
   "mimetype": "text/x-python",
   "name": "python",
   "nbconvert_exporter": "python",
   "pygments_lexer": "ipython3",
   "version": "3.5.2"
  }
 },
 "nbformat": 4,
 "nbformat_minor": 2
}
