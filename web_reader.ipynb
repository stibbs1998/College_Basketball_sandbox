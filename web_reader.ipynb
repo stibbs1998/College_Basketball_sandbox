{
 "cells": [
  {
   "cell_type": "code",
   "execution_count": 1,
   "metadata": {},
   "outputs": [],
   "source": [
    "from bs4 import BeautifulSoup\n",
    "import requests\n",
    "import numpy as np\n",
    "import pandas as pd"
   ]
  },
  {
   "cell_type": "markdown",
   "metadata": {},
   "source": [
    "# Read in Data from ESPN"
   ]
  },
  {
   "cell_type": "markdown",
   "metadata": {},
   "source": [
    "### Points per Game Stats"
   ]
  },
  {
   "cell_type": "code",
   "execution_count": 2,
   "metadata": {},
   "outputs": [],
   "source": [
    "charts = [41,81,121,161,201,241,281,321] # ESPN displays 40 teams per page\n",
    "url = 'http://www.espn.com/mens-college-basketball/statistics/team/_/stat/scoring-per-game/sort/avgPoints'\n",
    "r = requests.get(url)\n",
    "dataa = r.text\n",
    "soup = BeautifulSoup(dataa,'html.parser')\n",
    "table = []\n",
    "for row in soup('tr'):\n",
    "    cols = row.find_all('td')\n",
    "    cols = [ele.text.strip() for ele in cols]\n",
    "    table.append(cols)\n",
    "\n",
    "PPG = pd.DataFrame(table[1:],columns=table[0])\n",
    "\n",
    "for n in charts:   \n",
    "    \n",
    "    url = 'http://www.espn.com/mens-college-basketball/statistics/team/_/stat/scoring-per-game/sort/avgPoints/count/%d' %n\n",
    "    r = requests.get(url)\n",
    "    dataa = r.text\n",
    "    soup = BeautifulSoup(dataa,'html.parser')\n",
    "    table = []\n",
    "    for row in soup('tr'):\n",
    "\n",
    "        cols = row.find_all('td')\n",
    "        cols = [ele.text.strip() for ele in cols]\n",
    "        table.append(cols)\n",
    "\n",
    "    PPG2 = pd.DataFrame(table[1:],columns=table[0])\n",
    "    PPG = pd.concat([PPG,PPG2])\n",
    "    \n",
    "PPG = PPG[PPG[\"RK\"]!='RK']\n",
    "PPG = PPG.reset_index()\n",
    "PPG = PPG.drop(columns=['index'])"
   ]
  },
  {
   "cell_type": "markdown",
   "metadata": {},
   "source": [
    "### Rebounding"
   ]
  },
  {
   "cell_type": "code",
   "execution_count": 3,
   "metadata": {},
   "outputs": [],
   "source": [
    "charts = [41,81,121,161,201,241,281,321] # ESPN displays 40 teams per page\n",
    "url = 'http://www.espn.com/mens-college-basketball/statistics/team/_/stat/rebounds/sort/avgRebounds'\n",
    "r = requests.get(url)\n",
    "dataa = r.text\n",
    "soup = BeautifulSoup(dataa,'html.parser')\n",
    "table = []\n",
    "for row in soup('tr'):\n",
    "    cols = row.find_all('td')\n",
    "    cols = [ele.text.strip() for ele in cols]\n",
    "    table.append(cols)\n",
    "\n",
    "RPG = pd.DataFrame(table[1:],columns=table[0])\n",
    "\n",
    "for n in charts:   \n",
    "    \n",
    "    url = 'http://www.espn.com/mens-college-basketball/statistics/team/_/stat/rebounds/sort/avgRebounds/count/%d' %n\n",
    "    r = requests.get(url)\n",
    "    dataa = r.text\n",
    "    soup = BeautifulSoup(dataa,'html.parser')\n",
    "    table = []\n",
    "    for row in soup('tr'):\n",
    "\n",
    "        cols = row.find_all('td')\n",
    "        cols = [ele.text.strip() for ele in cols]\n",
    "        table.append(cols)\n",
    "\n",
    "    RPG2 = pd.DataFrame(table[1:],columns=table[0])\n",
    "    RPG = pd.concat([RPG,RPG2])\n",
    "    \n",
    "RPG = RPG[RPG[\"RK\"]!='RK']\n",
    "RPG = RPG.reset_index()\n",
    "RPG = RPG.drop(columns=['index'])"
   ]
  },
  {
   "cell_type": "markdown",
   "metadata": {},
   "source": [
    "###  Free Throws"
   ]
  },
  {
   "cell_type": "code",
   "execution_count": 28,
   "metadata": {
    "scrolled": false
   },
   "outputs": [],
   "source": [
    "charts = [41,81,121,161,201,241,281,321] # ESPN displays 40 teams per page\n",
    "url = 'http://www.espn.com/mens-college-basketball/statistics/team/_/stat/free-throws/sort/freeThrowPct'\n",
    "r = requests.get(url)\n",
    "dataa = r.text\n",
    "soup = BeautifulSoup(dataa,'html.parser')\n",
    "table = []\n",
    "for row in soup('tr'):\n",
    "    cols = row.find_all('td')\n",
    "    cols = [ele.text.strip() for ele in cols]\n",
    "    table.append(cols)\n",
    "\n",
    "FT = pd.DataFrame(table[2:],columns=table[1])\n",
    "\n",
    "for n in charts:   \n",
    "    url = 'http://www.espn.com/mens-college-basketball/statistics/team/_/stat/free-throws/sort/freeThrowPct/count/%d' %n    \n",
    "    r = requests.get(url)\n",
    "    dataa = r.text\n",
    "    soup = BeautifulSoup(dataa,'html.parser')\n",
    "    table = []\n",
    "    for row in soup('tr'):\n",
    "\n",
    "        cols = row.find_all('td')\n",
    "        cols = [ele.text.strip() for ele in cols]\n",
    "        table.append(cols)\n",
    "\n",
    "    FT2 = pd.DataFrame(table[2:],columns=table[1])\n",
    "    FT = pd.concat([FT,FT2])\n",
    "    \n",
    "FT = FT[np.logical_and(FT[\"TEAM\"]!='PER GAME' , FT[\"TEAM\"]!='TEAM')]\n",
    "FT = FT.reset_index()\n",
    "FT = FT.drop(columns=['index'])\n",
    "FT.columns = pd.io.parsers.ParserBase({'names':FT.columns})._maybe_dedup_names(FT.columns) # rename duplicate cols\n",
    "FT = FT.rename(columns={'FTM.1':'FTM_Total','FTA.1':'FTA_Total'})"
   ]
  },
  {
   "cell_type": "markdown",
   "metadata": {},
   "source": [
    "### Turnovers/Steals "
   ]
  },
  {
   "cell_type": "code",
   "execution_count": 30,
   "metadata": {},
   "outputs": [],
   "source": [
    "charts = [41,81,121,161,201,241,281,321] # ESPN displays 40 teams per page\n",
    "url = 'http://www.espn.com/mens-college-basketball/statistics/team/_/stat/steals/sort/avgTurnovers'\n",
    "r = requests.get(url)\n",
    "dataa = r.text\n",
    "soup = BeautifulSoup(dataa,'html.parser')\n",
    "table = []\n",
    "for row in soup('tr'):\n",
    "    cols = row.find_all('td')\n",
    "    cols = [ele.text.strip() for ele in cols]\n",
    "    table.append(cols)\n",
    "\n",
    "TO = pd.DataFrame(table[1:],columns=table[0])\n",
    "\n",
    "for n in charts:   \n",
    "    \n",
    "    url = 'http://www.espn.com/mens-college-basketball/statistics/team/_/stat/steals/sort/avgTurnovers/count/%d' %n\n",
    "    r = requests.get(url)\n",
    "    dataa = r.text\n",
    "    soup = BeautifulSoup(dataa,'html.parser')\n",
    "    table = []\n",
    "    for row in soup('tr'):\n",
    "\n",
    "        cols = row.find_all('td')\n",
    "        cols = [ele.text.strip() for ele in cols]\n",
    "        table.append(cols)\n",
    "\n",
    "    TO2 = pd.DataFrame(table[1:],columns=table[0])\n",
    "    TO = pd.concat([TO,TO2])\n",
    "    \n",
    "TO = TO[TO[\"RK\"]!='RK']\n",
    "TO = TO.reset_index()\n",
    "TO = TO.drop(columns=['index'])"
   ]
  },
  {
   "cell_type": "markdown",
   "metadata": {},
   "source": [
    "### Write Data to CSV files for data to be used across notebooks."
   ]
  },
  {
   "cell_type": "code",
   "execution_count": null,
   "metadata": {},
   "outputs": [],
   "source": [
    "TO.to_csv()\n",
    "RPG.to_csv()\n",
    "PPG.to_csv()\n",
    "FT.to_csv()"
   ]
  }
 ],
 "metadata": {
  "kernelspec": {
   "display_name": "Python 3",
   "language": "python",
   "name": "python3"
  },
  "language_info": {
   "codemirror_mode": {
    "name": "ipython",
    "version": 3
   },
   "file_extension": ".py",
   "mimetype": "text/x-python",
   "name": "python",
   "nbconvert_exporter": "python",
   "pygments_lexer": "ipython3",
   "version": "3.5.2"
  }
 },
 "nbformat": 4,
 "nbformat_minor": 2
}
